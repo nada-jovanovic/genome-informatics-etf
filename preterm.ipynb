{
 "cells": [
  {
   "cell_type": "code",
   "execution_count": 13,
   "metadata": {},
   "outputs": [],
   "source": [
    "# !pip install pandas"
   ]
  },
  {
   "cell_type": "code",
   "execution_count": 14,
   "metadata": {},
   "outputs": [],
   "source": [
    "import numpy as np\n",
    "import pandas as pd"
   ]
  },
  {
   "cell_type": "code",
   "execution_count": 231,
   "metadata": {},
   "outputs": [
    {
     "name": "stdout",
     "output_type": "stream",
     "text": [
      "Loading data...\n",
      "Data successfully loaded.\n"
     ]
    }
   ],
   "source": [
    "print(\"Loading data...\")\n",
    "patients_data = pd.read_csv('preterm_data/anoSC2_v20_nokey.csv')\n",
    "platform1_data = pd.read_csv('preterm_data/eset_HuGene21ST.csv')\n",
    "platform2_data = pd.read_csv('preterm_data/HTA20_RMA.csv')\n",
    "print(\"Data successfully loaded.\")"
   ]
  },
  {
   "cell_type": "code",
   "execution_count": 223,
   "metadata": {},
   "outputs": [
    {
     "name": "stdout",
     "output_type": "stream",
     "text": [
      "Merging data from different platforms...\n",
      "Data successfully merged.\n"
     ]
    }
   ],
   "source": [
    "print(\"Merging data from different platforms...\")\n",
    "platform1_data.columns = ['GeneID'] + platform1_data.columns.tolist()[1:]\n",
    "platform2_data.columns = ['GeneID'] + platform2_data.columns.tolist()[1:]\n",
    "\n",
    "common_genes = list(set(platform1_data.GeneID.values).intersection(set(platform2_data.GeneID.values)))\n",
    "\n",
    "platform1_data = platform1_data[platform1_data.GeneID.isin(common_genes)]\n",
    "platform2_data = platform2_data[platform2_data.GeneID.isin(common_genes)]\n",
    "\n",
    "merged = pd.merge(platform1_data, platform2_data, on='GeneID', how='inner')\n",
    "cols = ['GeneID'] + patients_data.SampleID.tolist()\n",
    "merged = merged[cols]\n",
    "print(\"Data successfully merged.\")"
   ]
  },
  {
   "cell_type": "code",
   "execution_count": 225,
   "metadata": {},
   "outputs": [
    {
     "name": "stdout",
     "output_type": "stream",
     "text": [
      "Scaling data...\n",
      "Data successfully scaled.\n"
     ]
    }
   ],
   "source": [
    "print(\"Scaling data...\")\n",
    "\n",
    "from sklearn.preprocessing import StandardScaler\n",
    "\n",
    "scaler = StandardScaler()\n",
    "scaled_features = scaler.fit_transform(merged.T.values[1:])\n",
    "transformed_data = pd.DataFrame(data=scaled_features.T, columns=merged.columns.tolist()[1:], index=merged.index.tolist())\n",
    "transformed_data[\"GeneID\"] = merged.GeneID.tolist()\n",
    "print(\"Data successfully scaled.\")"
   ]
  },
  {
   "cell_type": "code",
   "execution_count": 226,
   "metadata": {},
   "outputs": [
    {
     "name": "stdout",
     "output_type": "stream",
     "text": [
      "Extracting sPTD/Control and PPROM/Control train samples..\n",
      "Samples extracted.\n"
     ]
    }
   ],
   "source": [
    "print(\"Extracting sPTD/Control and PPROM/Control train samples..\")\n",
    "sPTD_samples = patients_data[patients_data[\"Group\"].isin([\"Control\", \"sPTD\"]) & (patients_data[\"Train\"] == 1)].SampleID.values\n",
    "PPROM_samples = patients_data[patients_data[\"Group\"].isin([\"Control\", \"PPROM\"]) & (patients_data[\"Train\"] == 1)].SampleID.values\n",
    "print(\"Samples extracted.\")"
   ]
  },
  {
   "cell_type": "code",
   "execution_count": 227,
   "metadata": {},
   "outputs": [
    {
     "name": "stdout",
     "output_type": "stream",
     "text": [
      "Fetching latest sPTD & PPROM data, per one person...\n",
      "Latest data fetched.\n"
     ]
    }
   ],
   "source": [
    "print(\"Fetching latest sPTD & PPROM data, per one person...\")\n",
    "def get_latest_data_for(data_set):\n",
    "    result = pd.DataFrame()\n",
    "    for individual_id in pd.unique(data_set.IndividualID):\n",
    "        latest_sample_data = data_set[data_set.IndividualID == individual_id].sort_values('GA').iloc[-1:]\n",
    "        result = result.append(latest_sample_data)\n",
    "    return result\n",
    "    \n",
    "sPTD_data = patients_data[patients_data[\"SampleID\"].isin(sPTD_samples)]\n",
    "latest_sptd_data = get_latest_data_for(sPTD_data)\n",
    "\n",
    "PPROM_data = patients_data[patients_data[\"SampleID\"].isin(PPROM_samples)]\n",
    "latest_pprom_data = get_latest_data_for(PPROM_data)\n",
    "print(\"Latest data fetched.\")"
   ]
  },
  {
   "cell_type": "code",
   "execution_count": 228,
   "metadata": {},
   "outputs": [
    {
     "name": "stdout",
     "output_type": "stream",
     "text": [
      "Fetching gene expression data for latest samples & their delivery outcomes...\n",
      "Data successfully fetched.\n"
     ]
    }
   ],
   "source": [
    "print(\"Fetching gene expression data for latest samples & their delivery outcomes...\")\n",
    "sPTD_genes = transformed_data[latest_sptd_data.SampleID.values]\n",
    "PPROM_genes = transformed_data[latest_pprom_data.SampleID.values]\n",
    "sPTD_outcomes = latest_sptd_data.Group.replace('Control', 0).replace('sPTD', 1).values\n",
    "PPROM_outcomes = latest_pprom_data.Group.replace('Control', 0).replace('PPROM', 1).values\n",
    "print(\"Data successfully fetched.\")"
   ]
  },
  {
   "cell_type": "code",
   "execution_count": 229,
   "metadata": {},
   "outputs": [
    {
     "name": "stdout",
     "output_type": "stream",
     "text": [
      "Performing feature selection by extracting 100 most relevant sPTD/PPROM genes...\n",
      "sPTD train-test set shape: (153, 50)\n",
      "==========\n",
      "sPTD train-test set shape: (175, 50)\n"
     ]
    }
   ],
   "source": [
    "from sklearn.linear_model import Lasso\n",
    "    \n",
    "print(\"Performing feature selection by extracting 100 most relevant sPTD/PPROM genes...\")\n",
    "from sklearn.feature_selection import SelectFromModel\n",
    "\n",
    "sPTD_feats = SelectFromModel(Lasso(alpha=0.01), max_features=50)\n",
    "sPTD_feats.fit(sPTD_genes.T, sPTD_outcomes)\n",
    "sPTD_gene_mask = sPTD_feats.get_support()\n",
    "\n",
    "PPROM_feats = SelectFromModel(Lasso(alpha=0.01), max_features=50)\n",
    "PPROM_feats.fit(PPROM_genes.T, PPROM_outcomes)\n",
    "PPROM_gene_mask = PPROM_feats.get_support()\n",
    "\n",
    "sPTD_train_test_set = sPTD_genes.loc[sPTD_gene_mask].T\n",
    "PPROM_train_test_set = PPROM_genes.loc[PPROM_gene_mask].T\n",
    "print(f'sPTD train-test set shape: {sPTD_train_test_set.shape}')\n",
    "print(\"==========\")\n",
    "print(f'sPTD train-test set shape: {PPROM_train_test_set.shape}')"
   ]
  },
  {
   "cell_type": "code",
   "execution_count": 230,
   "metadata": {},
   "outputs": [
    {
     "name": "stdout",
     "output_type": "stream",
     "text": [
      "--- sPTD vs Control scores ---\n",
      "Precision score mean: 1.0\n",
      "Recall score mean: 0.95\n",
      "F1 score mean: 0.9714285714285715\n",
      "Roc auc score mean: 1.0\n",
      "---- PPROM vs Control scores ----\n",
      "Precision score mean: 1.0\n",
      "Recall score mean: 0.975\n",
      "F1 score mean: 0.9866666666666667\n",
      "Roc auc score mean: 1.0\n"
     ]
    }
   ],
   "source": [
    "from sklearn.linear_model import LogisticRegression\n",
    "model = LogisticRegression(random_state=4)\n",
    "\n",
    "print(\"--- sPTD vs Control scores ---\")\n",
    "scores = cross_validate(model, sPTD_train_test_set, sPTD_outcomes, cv=5, scoring=scoring_metrics)\n",
    "print(f\"Precision score mean: {np.mean(scores['test_precision'])}\")\n",
    "print(f\"Recall score mean: {np.mean(scores['test_recall'])}\")\n",
    "print(f\"F1 score mean: {np.mean(scores['test_f1'])}\")\n",
    "print(f\"Roc auc score mean: {np.mean(scores['test_roc_auc'])}\")\n",
    "\n",
    "print(\"---- PPROM vs Control scores ----\")\n",
    "scores = cross_validate(model, PPROM_train_test_set, PPROM_outcomes, cv=5, scoring=scoring_metrics)\n",
    "print(f\"Precision score mean: {np.mean(scores['test_precision'])}\")\n",
    "print(f\"Recall score mean: {np.mean(scores['test_recall'])}\")\n",
    "print(f\"F1 score mean: {np.mean(scores['test_f1'])}\")\n",
    "print(f\"Roc auc score mean: {np.mean(scores['test_roc_auc'])}\")"
   ]
  }
 ],
 "metadata": {
  "kernelspec": {
   "display_name": "Python 3",
   "language": "python",
   "name": "python3"
  },
  "language_info": {
   "codemirror_mode": {
    "name": "ipython",
    "version": 3
   },
   "file_extension": ".py",
   "mimetype": "text/x-python",
   "name": "python",
   "nbconvert_exporter": "python",
   "pygments_lexer": "ipython3",
   "version": "3.8.5"
  }
 },
 "nbformat": 4,
 "nbformat_minor": 4
}
