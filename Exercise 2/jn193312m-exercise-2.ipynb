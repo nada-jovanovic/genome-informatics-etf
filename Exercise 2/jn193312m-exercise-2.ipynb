{
 "cells": [
  {
   "cell_type": "code",
   "execution_count": 23,
   "metadata": {},
   "outputs": [
    {
     "name": "stdout",
     "output_type": "stream",
     "text": [
      "Total number of reads: 2921629\n",
      "Unmapped read count: 17765\n",
      "Zero mapping quality count: 126628\n",
      "Average mapping quality: 55.91379158681681\n",
      "Average mapping quality without zero-quality reads: 58.446975510921106\n"
     ]
    }
   ],
   "source": [
    "import pysam\n",
    "total_number_of_reads, unmapped_count, mapping_quality_zero_count, total_quality = 0, 0, 0, 0\n",
    "for read in pysam.AlignmentFile('/sbgenomics/project-files/merged-tumor.bam'):\n",
    "    total_number_of_reads += 1\n",
    "    total_quality += read.mapping_quality\n",
    "    if read.is_unmapped:\n",
    "        unmapped_count += 1\n",
    "    if read.mapping_quality == 0:\n",
    "        mapping_quality_zero_count += 1\n",
    "print(f'Total number of reads: {total_number_of_reads}')\n",
    "print(f'Unmapped read count: {unmapped_count}')\n",
    "print(f'Zero mapping quality count: {mapping_quality_zero_count}')\n",
    "print(f'Average mapping quality: {total_quality / total_number_of_reads}')\n",
    "print(f'Average mapping quality without zero-quality reads: {total_quality / (total_number_of_reads - mapping_quality_zero_count)}')"
   ]
  },
  {
   "cell_type": "code",
   "execution_count": null,
   "metadata": {},
   "outputs": [],
   "source": []
  }
 ],
 "metadata": {
  "kernelspec": {
   "display_name": "Python 3",
   "language": "python",
   "name": "python3"
  },
  "language_info": {
   "codemirror_mode": {
    "name": "ipython",
    "version": 3
   },
   "file_extension": ".py",
   "mimetype": "text/x-python",
   "name": "python",
   "nbconvert_exporter": "python",
   "pygments_lexer": "ipython3",
   "version": "3.8.3"
  }
 },
 "nbformat": 4,
 "nbformat_minor": 4
}
